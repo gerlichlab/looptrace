{
 "cells": [
  {
   "cell_type": "markdown",
   "metadata": {},
   "source": [
    "Set initial folder locations, as well as the number of positions (for running array jobs)"
   ]
  },
  {
   "cell_type": "code",
   "execution_count": 3,
   "metadata": {},
   "outputs": [],
   "source": [
    "params = {}\n",
    "n_pos = 30\n",
    "params['config_path'] = '/path/to/config.yml'\n",
    "params['images_folder'] = '/path/to/images'"
   ]
  },
  {
   "cell_type": "markdown",
   "metadata": {},
   "source": [
    "Run PSF extraction prior to deconvolution:"
   ]
  },
  {
   "cell_type": "code",
   "execution_count": null,
   "metadata": {},
   "outputs": [],
   "source": [
    "params['bin_path'] = '~/looptrace/bin/cli/extract_exp_psf.py'\n",
    "cmd = ' '.join(['python3',params['bin_path'],params['config_path'],params['images_folder']])\n",
    "print(cmd)\n",
    "!{cmd}"
   ]
  },
  {
   "cell_type": "markdown",
   "metadata": {},
   "source": [
    "Run deconvolution on HPC:"
   ]
  },
  {
   "cell_type": "code",
   "execution_count": null,
   "metadata": {},
   "outputs": [],
   "source": [
    "params['job_path'] = '/path/to/save/job_details'\n",
    "params['job_name'] = 'decon_cluster'\n",
    "params['time'] = '60:00'\n",
    "params['cpus_per_task'] = '2'\n",
    "params['mem_per_cpu'] = '16G'\n",
    "params['env'] = '~/env/looptrace'\n",
    "params['bin_path'] = '~/looptrace/bin/cli/decon.py'\n",
    "params['array'] = '0-'+str(n_pos-1)\n",
    "params['partition'] = 'gpu-partition'\n",
    "params['gres'] = 'gpu:1'\n",
    "params['module'] = 'TensorFlow/2.6.0-foss-2021a-CUDA-11.3.1'\n",
    "params['run'] = ''\n",
    "\n",
    "cmd = ' '.join(['python3','~/looptrace/bin/cli/submit_cluster_job.py'] + [str('--'+k+' '+params[k]) for k in params])\n",
    "cmd\n",
    "!{cmd}"
   ]
  },
  {
   "cell_type": "markdown",
   "metadata": {},
   "source": [
    "Segment nuclei using CellPose on local machine (can be put on HPC, especially for 3D):"
   ]
  },
  {
   "cell_type": "code",
   "execution_count": null,
   "metadata": {},
   "outputs": [],
   "source": [
    "params['bin_path'] = '~/looptrace/bin/cli/nuc_label.py'\n",
    "cmd = ' '.join(['python3',params['bin_path'],params['config_path'],params['images_folder']])\n",
    "print(cmd)\n",
    "!{cmd}"
   ]
  },
  {
   "cell_type": "markdown",
   "metadata": {},
   "source": [
    "Run drift correction as a cluster array job:"
   ]
  },
  {
   "cell_type": "code",
   "execution_count": null,
   "metadata": {},
   "outputs": [],
   "source": [
    "params['job_path'] = '/path/to/save/job_details'\n",
    "params['job_name'] = 'dc_cluster'\n",
    "params['time'] = '90:00'\n",
    "params['cpus_per_task'] = '4'\n",
    "params['mem_per_cpu'] = '2G'\n",
    "params['env'] = '~/env/looptrace'\n",
    "params['bin_path'] = '~/looptrace/bin/cli/drift_correct.py'\n",
    "params['partition'] = 'hpc-parition'\n",
    "params['array'] = '0-'+str(n_pos-1)\n",
    "params['run'] = ''\n",
    "\n",
    "cmd = ' '.join(['python3','~/looptrace/bin/cli/submit_cluster_job.py'] + [str('--'+k+' '+params[k]) for k in params])\n",
    "cmd\n",
    "!{cmd}"
   ]
  },
  {
   "cell_type": "markdown",
   "metadata": {},
   "source": [
    "Merging of the separate drift correction files:"
   ]
  },
  {
   "cell_type": "code",
   "execution_count": null,
   "metadata": {},
   "outputs": [],
   "source": [
    "cmd = ' '.join(['python3 ~/looptrace/bin/cli/cluster_analysis_cleanup.py', params['config_path']])\n",
    "!{cmd}"
   ]
  },
  {
   "cell_type": "markdown",
   "metadata": {},
   "source": [
    "Run spot detection according to config file:"
   ]
  },
  {
   "cell_type": "code",
   "execution_count": null,
   "metadata": {},
   "outputs": [],
   "source": [
    "params['job_path'] = '/path/to/save/job_details'\n",
    "params['job_name'] = 'spots_cluster'\n",
    "params['time'] = '10:00'\n",
    "params['cpus_per_task'] = '2'\n",
    "params['mem_per_cpu'] = '4G'\n",
    "params['env'] = '~/env/looptrace'\n",
    "params['bin_path'] = '~/looptrace/bin/cli/detect_spots.py'\n",
    "params['array'] = '0-'+str(n_pos-1)\n",
    "params['run'] = ''\n",
    "\n",
    "cmd = ' '.join(['python3','~/looptrace/bin/cli/submit_cluster_job.py'] + [str('--'+k+' '+params[k]) for k in params])\n",
    "cmd\n",
    "!{cmd}"
   ]
  },
  {
   "cell_type": "markdown",
   "metadata": {},
   "source": [
    "Clean up tables of detected spots:"
   ]
  },
  {
   "cell_type": "code",
   "execution_count": null,
   "metadata": {},
   "outputs": [],
   "source": [
    "cmd = ' '.join(['python3 /g/ellenberg/Kai/Git/looptrace_dev/bin/cli/cluster_analysis_cleanup.py', params['config_path']])\n",
    "!{cmd}"
   ]
  },
  {
   "cell_type": "markdown",
   "metadata": {},
   "source": [
    "Generate full table of drift corrected spot bounding boxes:"
   ]
  },
  {
   "cell_type": "code",
   "execution_count": null,
   "metadata": {},
   "outputs": [],
   "source": [
    "params['bin_path'] = '~/looptrace/bin/cli/extract_spots_table.py'\n",
    "cmd = ' '.join(['python3',params['bin_path'],params['config_path'], params['images_folder']])\n",
    "print(cmd)\n",
    "!{cmd}"
   ]
  },
  {
   "cell_type": "markdown",
   "metadata": {},
   "source": [
    "Extract spot images from full dataset:"
   ]
  },
  {
   "cell_type": "code",
   "execution_count": null,
   "metadata": {},
   "outputs": [],
   "source": [
    "params['job_path'] = '/path/to/save/job_details'\n",
    "params['job_name'] = 'exspots_cluster'\n",
    "params['time'] = '5:00'\n",
    "params['cpus_per_task'] = '2'\n",
    "params['mem_per_cpu'] = '4G'\n",
    "params['env'] = '~/env/looptrace'\n",
    "params['bin_path'] = '/looptrace/bin/cli/extract_spots.py'\n",
    "params['array'] = '0-'+str(n_pos-1)\n",
    "params['run'] = ''\n",
    "\n",
    "cmd = ' '.join(['python3','/looptrace/bin/cli/submit_cluster_job.py'] + [str('--'+k+' '+params[k]) for k in params])\n",
    "cmd\n",
    "!{cmd}"
   ]
  },
  {
   "cell_type": "markdown",
   "metadata": {},
   "source": [
    "Clean up extracted spots images:"
   ]
  },
  {
   "cell_type": "code",
   "execution_count": null,
   "metadata": {},
   "outputs": [],
   "source": [
    "params['bin_path'] = '~/looptrace/bin/cli/extract_spots_cluster_cleanup.py'\n",
    "cmd = ' '.join(['python3',params['bin_path'],params['images_folder']])\n",
    "print(cmd)\n",
    "!{cmd}"
   ]
  },
  {
   "cell_type": "markdown",
   "metadata": {},
   "source": [
    "Run tracing workflow:"
   ]
  },
  {
   "cell_type": "code",
   "execution_count": null,
   "metadata": {},
   "outputs": [],
   "source": [
    "params['job_path'] = '/path/to/save/job_details'\n",
    "params['job_name'] = 'tracing_cluster'\n",
    "params['time'] = '30:00'\n",
    "params['cpus_per_task'] = '2'\n",
    "params['mem_per_cpu'] = '2G'\n",
    "params['env'] = '~/env/looptrace'\n",
    "params['bin_path'] = '~/looptrace/bin/cli/tracing.py'\n",
    "params['array'] = '0-'+str(n_pos-1)\n",
    "params['run'] = ''\n",
    "\n",
    "cmd = ' '.join(['python3','~/looptrace/bin/cli/submit_cluster_job.py'] + [str('--'+k+' '+params[k]) for k in params])\n",
    "cmd\n",
    "!{cmd}"
   ]
  },
  {
   "cell_type": "markdown",
   "metadata": {},
   "source": [
    "Clean up tracing tables:"
   ]
  },
  {
   "cell_type": "code",
   "execution_count": null,
   "metadata": {},
   "outputs": [],
   "source": [
    "cmd = ' '.join(['python3 /g/ellenberg/Kai/Git/looptrace_dev/bin/cli/cluster_analysis_cleanup.py', params['config_path']])\n",
    "!{cmd}"
   ]
  }
 ],
 "metadata": {
  "kernelspec": {
   "display_name": "Python [conda env:looptrace] *",
   "language": "python",
   "name": "conda-env-looptrace-py"
  },
  "language_info": {
   "codemirror_mode": {
    "name": "ipython",
    "version": 3
   },
   "file_extension": ".py",
   "mimetype": "text/x-python",
   "name": "python",
   "nbconvert_exporter": "python",
   "pygments_lexer": "ipython3",
   "version": "3.9.13"
  },
  "orig_nbformat": 4,
  "vscode": {
   "interpreter": {
    "hash": "09605df63986551458fb3d855bb1f296f8877a0895e91ec35a4874e3309bd8ea"
   }
  }
 },
 "nbformat": 4,
 "nbformat_minor": 2
}
