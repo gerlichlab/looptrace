{
 "cells": [
  {
   "cell_type": "markdown",
   "metadata": {},
   "source": [
    "Set initial folder locations, as well as the number of positions (for running array jobs)"
   ]
  },
  {
   "cell_type": "code",
   "execution_count": 3,
   "metadata": {},
   "outputs": [],
   "source": [
    "params = {}\n",
    "n_pos = 30\n",
    "params['config_path'] = '/path/to/config.yml'\n",
    "params['image_path'] = '/path/to/images'"
   ]
  },
  {
   "cell_type": "markdown",
   "metadata": {},
   "source": [
    "Run PSF extraction prior to deconvolution:"
   ]
  },
  {
   "cell_type": "code",
   "execution_count": null,
   "metadata": {},
   "outputs": [],
   "source": [
    "params['bin_path'] = '~/looptrace/bin/cli/extract_exp_psf.py'\n",
    "cmd = ' '.join(['python3',params['bin_path'],params['config_path'],params['image_path']])\n",
    "print(cmd)\n",
    "!{cmd}"
   ]
  },
  {
   "cell_type": "markdown",
   "metadata": {},
   "source": [
    "Run deconvolution (a Tensorflow environment is needed for this, a GPU is highly recommended):"
   ]
  },
  {
   "cell_type": "code",
   "execution_count": null,
   "metadata": {},
   "outputs": [],
   "source": [
    "params['bin_path'] = '~/looptrace/bin/cli/decon.py'\n",
    "cmd = ' '.join(['python3',params['bin_path'],params['config_path'],params['image_path']])\n",
    "print(cmd)\n",
    "!{cmd}"
   ]
  },
  {
   "cell_type": "markdown",
   "metadata": {},
   "source": [
    "Segment nuclei using CellPose on local machine (can be put on HPC, especially for 3D):"
   ]
  },
  {
   "cell_type": "code",
   "execution_count": null,
   "metadata": {},
   "outputs": [],
   "source": [
    "params['bin_path'] = '~/looptrace/bin/cli/nuc_label.py'\n",
    "cmd = ' '.join(['python3',params['bin_path'],params['config_path'],params['image_path']])\n",
    "print(cmd)\n",
    "!{cmd}"
   ]
  },
  {
   "cell_type": "markdown",
   "metadata": {},
   "source": [
    "Run drift correction as a cluster array job:"
   ]
  },
  {
   "cell_type": "code",
   "execution_count": null,
   "metadata": {},
   "outputs": [],
   "source": [
    "params['bin_path'] = '~/looptrace/bin/cli/drift_correct.py'\n",
    "cmd = ' '.join(['python3',params['bin_path'],params['config_path'],params['image_path']])\n",
    "print(cmd)\n",
    "!{cmd}"
   ]
  },
  {
   "cell_type": "markdown",
   "metadata": {},
   "source": [
    "Run spot detection according to config file:"
   ]
  },
  {
   "cell_type": "code",
   "execution_count": null,
   "metadata": {},
   "outputs": [],
   "source": [
    "params['bin_path'] = '~/looptrace/bin/cli/detect_spots.py'\n",
    "params['bin_path'] = '~/looptrace/bin/cli/extract_exp_psf.py'\n",
    "cmd = ' '.join(['python3',params['bin_path'],params['config_path'],params['image_path']])\n",
    "print(cmd)\n",
    "!{cmd}"
   ]
  },
  {
   "cell_type": "markdown",
   "metadata": {},
   "source": [
    "Generate full table of drift corrected spot bounding boxes:"
   ]
  },
  {
   "cell_type": "code",
   "execution_count": null,
   "metadata": {},
   "outputs": [],
   "source": [
    "params['bin_path'] = '~/looptrace/bin/cli/extract_spots_table.py'\n",
    "cmd = ' '.join(['python3',params['bin_path'],params['config_path'], params['image_path']])\n",
    "print(cmd)\n",
    "!{cmd}"
   ]
  },
  {
   "cell_type": "markdown",
   "metadata": {},
   "source": [
    "Extract spot images from full dataset:"
   ]
  },
  {
   "cell_type": "code",
   "execution_count": null,
   "metadata": {},
   "outputs": [],
   "source": [
    "params['bin_path'] = '/looptrace/bin/cli/extract_spots.py'\n",
    "cmd = ' '.join(['python3',params['bin_path'],params['config_path'], params['image_path']])\n",
    "print(cmd)\n",
    "!{cmd}"
   ]
  },
  {
   "cell_type": "markdown",
   "metadata": {},
   "source": [
    "Clean up extracted spots images:"
   ]
  },
  {
   "cell_type": "code",
   "execution_count": null,
   "metadata": {},
   "outputs": [],
   "source": [
    "params['bin_path'] = '~/looptrace/bin/cli/extract_spots_cluster_cleanup.py'\n",
    "cmd = ' '.join(['python3',params['bin_path'],params['image_path']])\n",
    "print(cmd)\n",
    "!{cmd}"
   ]
  },
  {
   "cell_type": "markdown",
   "metadata": {},
   "source": [
    "Run tracing workflow:"
   ]
  },
  {
   "cell_type": "code",
   "execution_count": null,
   "metadata": {},
   "outputs": [],
   "source": [
    "params['bin_path'] = '~/looptrace/bin/cli/tracing.py'\n",
    "cmd = ' '.join(['python3',params['bin_path'],params['image_path']])\n",
    "print(cmd)\n",
    "!{cmd}"
   ]
  }
 ],
 "metadata": {
  "kernelspec": {
   "display_name": "Python 3.8.13 ('looptrace_analysis')",
   "language": "python",
   "name": "python3"
  },
  "language_info": {
   "codemirror_mode": {
    "name": "ipython",
    "version": 3
   },
   "file_extension": ".py",
   "mimetype": "text/x-python",
   "name": "python",
   "nbconvert_exporter": "python",
   "pygments_lexer": "ipython3",
   "version": "3.8.13"
  },
  "orig_nbformat": 4,
  "vscode": {
   "interpreter": {
    "hash": "09605df63986551458fb3d855bb1f296f8877a0895e91ec35a4874e3309bd8ea"
   }
  }
 },
 "nbformat": 4,
 "nbformat_minor": 2
}
